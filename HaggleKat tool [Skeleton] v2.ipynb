{
 "cells": [
  {
   "cell_type": "markdown",
   "metadata": {},
   "source": [
    "### Initial Setup procedure\n",
    "\n",
    "* Log in to GCP\n",
    "* Start the free trial access\n",
    "* Setup a billing account\n",
    "* Create a Project\n",
    "* Enable Google Cloud vision API and generate API token\n",
    "https://cloud.google.com/vision/docs/before-you-begin\n",
    "* Download Google SDK\n",
    "* Run Google SDK -> Login -> Select Project\n",
    "* Create a service account -> assign role -> download credential JSON\n",
    "\n",
    "Codes - \n",
    "###### gcloud iam service-accounts create webdetection\n",
    "###### gcloud projects add-iam-policy-binding web-detection-208318 --member \"serviceAccount:webdetection@web-detection-208318.iam.gserviceaccount.com\" --role \"roles/owner\"\n",
    "###### gcloud iam service-accounts keys create webdetection_auth.json --iam-account webdetection@web-detection-208318.iam.gserviceaccount.com\n",
    "\n",
    "* Upload JSON to Jupyter environment\n",
    "\n",
    "-- Install colorthief ver 4.0.0\n",
    "\n",
    "#### Ebay API\n",
    "Install - pip install ebaysdk\n",
    "\n",
    "API key - MethodDa-MethodDa-SBX-e2ccbdebc-b7307a8f"
   ]
  },
  {
   "cell_type": "code",
   "execution_count": 1,
   "metadata": {
    "collapsed": true,
    "scrolled": true
   },
   "outputs": [],
   "source": [
    "import argparse\n",
    "import io\n",
    "import re\n",
    "import pandas as pd\n",
    "import numpy as np\n",
    "import webcolors as wb\n",
    "\n",
    "from google.cloud import storage\n",
    "from google.cloud import vision\n",
    "from google.protobuf import json_format\n",
    "from colorthief import ColorThief"
   ]
  },
  {
   "cell_type": "code",
   "execution_count": 2,
   "metadata": {
    "collapsed": true
   },
   "outputs": [],
   "source": [
    "import os\n",
    "os.environ[\"GOOGLE_APPLICATION_CREDENTIALS\"]=\"webdetection_auth.json\""
   ]
  },
  {
   "cell_type": "code",
   "execution_count": 3,
   "metadata": {
    "collapsed": true
   },
   "outputs": [],
   "source": [
    "def detection(image):\n",
    "    client = vision.ImageAnnotatorClient()\n",
    "\n",
    "    # [START migration_web_detection]\n",
    "    with io.open(image, 'rb') as image_file:\n",
    "        content = image_file.read()\n",
    "\n",
    "    image = vision.types.Image(content=content)\n",
    "\n",
    "    response = client.web_detection(image=image)\n",
    "    annotations = response.web_detection\n",
    "    return annotations"
   ]
  },
  {
   "cell_type": "code",
   "execution_count": 4,
   "metadata": {
    "collapsed": true
   },
   "outputs": [],
   "source": [
    "# Converting web entities into dataframe\n",
    "def web_entities(annotations):\n",
    "    df2_entity_id = []\n",
    "    df2_score = []\n",
    "    df2_description = []\n",
    "    if annotations.web_entities:\n",
    "        for entity in annotations.web_entities:\n",
    "            df2_entity_id.append(entity.entity_id)\n",
    "            df2_score.append(entity.score)\n",
    "            df2_description.append(entity.description)\n",
    "    df_web_entities = pd.DataFrame(\n",
    "        {'entity_id': df2_entity_id,\n",
    "         'score': df2_score,\n",
    "         'description': df2_description\n",
    "        })\n",
    "    df_labels = df_web_entities.description[df_web_entities.score > 0.70]\n",
    "    df_labels = list(filter(None, df_labels)) \n",
    "    return df_labels "
   ]
  },
  {
   "cell_type": "code",
   "execution_count": 5,
   "metadata": {
    "collapsed": true,
    "scrolled": true
   },
   "outputs": [],
   "source": [
    "#Convert best guess into list\n",
    "def best_guess(annotations):\n",
    "    df_best_guess = []\n",
    "    if annotations.best_guess_labels:\n",
    "        for label in annotations.best_guess_labels:\n",
    "            df_best_guess.append(label.label)\n",
    "    return df_best_guess"
   ]
  },
  {
   "cell_type": "code",
   "execution_count": 6,
   "metadata": {
    "collapsed": true,
    "scrolled": true
   },
   "outputs": [],
   "source": [
    "#Convert urls into dataframe\n",
    "def urls(annotations):\n",
    "    url = []\n",
    "    if annotations.pages_with_matching_images:\n",
    "        for page in annotations.pages_with_matching_images:\n",
    "            url.append(page.url)\n",
    "    df_url = pd.DataFrame(\n",
    "        {'Weblinks':url})\n",
    "    return df_url"
   ]
  },
  {
   "cell_type": "code",
   "execution_count": 7,
   "metadata": {
    "collapsed": true
   },
   "outputs": [],
   "source": [
    "def closest_colour(requested_colour):\n",
    "    min_colours = {}\n",
    "    for key, name in wb.css3_hex_to_names.items():\n",
    "        r_c, g_c, b_c = wb.hex_to_rgb(key)\n",
    "        rd = (r_c - requested_colour[0]) ** 2\n",
    "        gd = (g_c - requested_colour[1]) ** 2\n",
    "        bd = (b_c - requested_colour[2]) ** 2\n",
    "        min_colours[(rd + gd + bd)] = name\n",
    "    return min_colours[min(min_colours.keys())]\n",
    "\n",
    "def get_colour_name(requested_colour):\n",
    "    try:\n",
    "        closest_name = actual_name = wb.rgb_to_name(requested_colour)\n",
    "    except ValueError:\n",
    "        closest_name = closest_colour(requested_colour)\n",
    "        actual_name = None\n",
    "    return actual_name, closest_name"
   ]
  },
  {
   "cell_type": "code",
   "execution_count": 8,
   "metadata": {
    "collapsed": true
   },
   "outputs": [],
   "source": [
    "#Get dominant color from image\n",
    "def get_color(image):\n",
    "    color_thief = ColorThief(image)\n",
    "    requested_colour = color_thief.get_color(quality=1)\n",
    "    actual_name, closest_name = get_colour_name(requested_colour)\n",
    "    if actual_name == None:\n",
    "        return closest_name\n",
    "    else:\n",
    "        return actual_name"
   ]
  },
  {
   "cell_type": "code",
   "execution_count": 9,
   "metadata": {
    "collapsed": true
   },
   "outputs": [],
   "source": [
    "#Ebay product find\n",
    "def ebay_find(keyword):\n",
    "    from ebaysdk.finding import Connection as Finding\n",
    "\n",
    "    api = Finding(domain='svcs.sandbox.ebay.com', appid=\"MethodDa-MethodDa-SBX-e2ccbdebc-b7307a8f\", config_file=None)\n",
    "    response = api.execute('findItemsAdvanced', {'keywords': keyword})\n",
    "    ebay_dict = response.dict()\n",
    "    return ebay_dict"
   ]
  },
  {
   "cell_type": "code",
   "execution_count": 15,
   "metadata": {
    "scrolled": true
   },
   "outputs": [
    {
     "name": "stdout",
     "output_type": "stream",
     "text": [
      "The keywords are: ['Messenger Bags', 'Leather', 'Handbag', 'Bag']\n",
      "The best guess is: ['Messenger bag']\n",
      "Dominant color is: peru\n",
      "Keyword to feed: ['Messenger bag peru colour']\n",
      "Ebay products:  {'ack': 'Success', 'version': '1.13.0', 'timestamp': '2018-07-08T08:17:28.494Z', 'searchResult': {'_count': '0'}, 'paginationOutput': {'pageNumber': '0', 'entriesPerPage': '100', 'totalPages': '0', 'totalEntries': '0'}, 'itemSearchURL': 'http://shop.sandbox.ebay.com/i.html?_nkw=Messenger+bag+peru+colour&_ddo=1&_ipg=100&_pgn=1'}\n"
     ]
    }
   ],
   "source": [
    "def main(image, debug = False):\n",
    "    #Process the image\n",
    "    annotations = detection(image)\n",
    "    #find the labels\n",
    "    df_labels = web_entities(annotations)\n",
    "    print(\"The keywords are:\", df_labels)\n",
    "    #find the best guess of the product\n",
    "    df_best_guess = best_guess(annotations)\n",
    "    print(\"The best guess is:\", df_best_guess)\n",
    "    #find dominant color in the image\n",
    "    color = get_color(image)\n",
    "    print(\"Dominant color is:\", color)\n",
    "    keyword = []\n",
    "    if not df_best_guess:\n",
    "        string = ' '.join(df_labels)\n",
    "        string = string + ' ' + color + 'colour'\n",
    "        keyword = list([string])\n",
    "    else:\n",
    "        keyword = df_best_guess\n",
    "        keyword = [x + ' ' + color + ' colour' for x in keyword]\n",
    "    print(\"Keyword to feed:\", keyword)\n",
    "    #find weblinks if any\n",
    "    df_url = urls(annotations)\n",
    "    df_amazon = []\n",
    "    df_ebay = []\n",
    "    df_pinterest = []\n",
    "    df_amazon = df_url[df_url['Weblinks'].str.contains(\"amazon\")==True]\n",
    "    df_ebay = df_url[df_url['Weblinks'].str.contains(\"ebay\")==True]\n",
    "    df_pinterest = df_url[df_url['Weblinks'].str.contains(\"pinterest\")==True]\n",
    "    #find ebay links\n",
    "    ebay_product = ebay_find(keyword)\n",
    "    if len(df_amazon) == 0 and len(df_ebay) != 0:\n",
    "        print(\"Ebay links:\", df_ebay)\n",
    "    elif len(df_amazon) != 0 and len(df_ebay) == 0:\n",
    "        print(\"Amazon links:\", df_amazon)\n",
    "    elif len(df_amazon) != 0 and len(df_ebay) != 0:\n",
    "        print(\"Ebay links:\", df_ebay)\n",
    "        print(\"Amazon links:\", df_amazon)\n",
    "    else:\n",
    "        print(\"Ebay products: \", ebay_product)\n",
    "if __name__ == \"__main__\":\n",
    "    main('leather_bag2.jpg')"
   ]
  }
 ],
 "metadata": {
  "kernelspec": {
   "display_name": "Python 3",
   "language": "python",
   "name": "python3"
  },
  "language_info": {
   "codemirror_mode": {
    "name": "ipython",
    "version": 3
   },
   "file_extension": ".py",
   "mimetype": "text/x-python",
   "name": "python",
   "nbconvert_exporter": "python",
   "pygments_lexer": "ipython3",
   "version": "3.6.6"
  }
 },
 "nbformat": 4,
 "nbformat_minor": 2
}
