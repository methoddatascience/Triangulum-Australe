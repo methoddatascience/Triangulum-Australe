{
 "cells": [
  {
   "cell_type": "markdown",
   "metadata": {},
   "source": [
    "### Objective \n",
    "\n",
    "Help HaggleKat build a tool which will allow customers to upload an image of a fashion product and get the best deals on that product on ebay or Amazon.\n"
   ]
  },
  {
   "cell_type": "markdown",
   "metadata": {},
   "source": [
    "### Company background\n",
    "\n",
    "HaggleKat is a fashion, style, and lifestyle blog based in Orange County, CA, managed by Social Media Influencer Jocelyn Walker. \n",
    "HaggleKat has a great group of real, active, and engaged followers across all social networks (40k+ and growing!) \n",
    "What HaggleKat will do:\n",
    "\n",
    "•\tproduct reviews\n",
    "•\tproduct promotion\n",
    "•\tevent coverage\n",
    "•\tevent hosting\n",
    "•\tbrand social media consultation\n",
    "•\tfashion / style advice and personal stylist services\n",
    "\n",
    "Link: https://www.linkedin.com/company/haggle-kat/?originalSubdomain=in\n",
    "Github link: https://github.com/incredibeau/hagglekat\n"
   ]
  },
  {
   "cell_type": "markdown",
   "metadata": {},
   "source": [
    "### Product Idea\n",
    "\n",
    "Build a tool or a website which will try to identify the type and brand of the fashion product in the uploaded image. Using this, the tool will display a list of deals on that product from ebay or Amazon. Clicking on the deal will redirect the customer to the product and HaggleKat will earn affiliate income."
   ]
  },
  {
   "cell_type": "markdown",
   "metadata": {},
   "source": [
    "### Resources\n",
    "\n",
    "Virtual Shop Assistant Chatbot with Amazing Image Recognition with C# : \n",
    "https://www.robinosborne.co.uk/2017/02/09/virtual-shop-assistant-chatbot-with-amazing-image-recognition/\n",
    "\n",
    "Object detection with PowerAI Vision\n",
    "https://github.com/IBM/powerai-vision-object-detection\n",
    "\n",
    "Clarifai Fashion pre trained model\n",
    "https://clarifai.com/models/apparel-image-recognition-model-e0be3b9d6a454f0493ac3a30784001ff\n",
    "\n",
    "Clarifai Logo pre trained model\n",
    "https://clarifai.com/models/logo-image-recognition-model-c443119bf2ed4da98487520d01a0b1e3\n",
    "\n",
    "Building a Convolutional Neural Network to Classify Images in Fashion-MNIST\n",
    "https://medium.com/@mroman09/building-a-convolutional-neural-network-to-classify-images-in-fashion-mnist-57589b94898e\n",
    "\n",
    "Pre trained models\n",
    "https://www.deepdetect.com/applications/list_models/\n",
    "\n",
    "Google Object Detection API\n",
    "https://towardsdatascience.com/google-object-detection-api-to-detect-brand-logos-fd9e113725d8\n",
    "\n",
    "Medium post on Fashion MNIST\n",
    "https://medium.com/tensorist/classifying-fashion-articles-using-tensorflow-fashion-mnist-f22e8a04728a\n",
    "\n",
    "DeepFashion API:\n",
    "https://algorithmia.com/algorithms/algorithmiahq/DeepFashion\n",
    "\n",
    "Classify ecommerce products based on image and text\n",
    "http://cbonnett.github.io/Insight.html"
   ]
  },
  {
   "cell_type": "markdown",
   "metadata": {},
   "source": [
    "### Data sources\n",
    "\n",
    "Fashion MNIST Data\n",
    "https://github.com/zalandoresearch/fashion-mnist\n",
    "\n",
    "Flickr logo dataset\n",
    "http://image.ntua.gr/iva/datasets/flickr_logos/\n",
    "\n"
   ]
  }
 ],
 "metadata": {
  "kernelspec": {
   "display_name": "Python 3",
   "language": "python",
   "name": "python3"
  },
  "language_info": {
   "codemirror_mode": {
    "name": "ipython",
    "version": 3
   },
   "file_extension": ".py",
   "mimetype": "text/x-python",
   "name": "python",
   "nbconvert_exporter": "python",
   "pygments_lexer": "ipython3",
   "version": "3.6.1"
  }
 },
 "nbformat": 4,
 "nbformat_minor": 2
}
