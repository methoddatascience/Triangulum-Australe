{
 "cells": [
  {
   "cell_type": "markdown",
   "metadata": {},
   "source": [
    "### Initial Setup procedure\n",
    "\n",
    "* Log in to GCP\n",
    "* Start the free trial access\n",
    "* Setup a billing account\n",
    "* Create a Project\n",
    "* Enable Google Cloud vision API and generate API token\n",
    "https://cloud.google.com/vision/docs/before-you-begin\n",
    "* Download Google SDK\n",
    "* Run Google SDK -> Login -> Select Project\n",
    "* Create a service account -> assign role -> download credential JSON\n",
    "\n",
    "Codes - \n",
    "###### gcloud iam service-accounts create webdetection\n",
    "###### gcloud projects add-iam-policy-binding web-detection-208318 --member \"serviceAccount:webdetection@web-detection-208318.iam.gserviceaccount.com\" --role \"roles/owner\"\n",
    "###### gcloud iam service-accounts keys create webdetection_auth.json --iam-account webdetection@web-detection-208318.iam.gserviceaccount.com\n",
    "\n",
    "* Upload JSON to Jupyter environment"
   ]
  },
  {
   "cell_type": "code",
   "execution_count": 1,
   "metadata": {
    "collapsed": true
   },
   "outputs": [],
   "source": [
    "import argparse\n",
    "import io\n",
    "import re\n",
    "import pandas as pd\n",
    "import numpy as np\n",
    "\n",
    "from google.cloud import storage\n",
    "from google.cloud import vision\n",
    "from google.protobuf import json_format"
   ]
  },
  {
   "cell_type": "code",
   "execution_count": 2,
   "metadata": {
    "collapsed": true
   },
   "outputs": [],
   "source": [
    "import os\n",
    "os.environ[\"GOOGLE_APPLICATION_CREDENTIALS\"]=\"webdetection_auth.json\""
   ]
  },
  {
   "cell_type": "code",
   "execution_count": 13,
   "metadata": {
    "collapsed": true
   },
   "outputs": [],
   "source": [
    "def detection(image):\n",
    "    client = vision.ImageAnnotatorClient()\n",
    "\n",
    "    # [START migration_web_detection]\n",
    "    with io.open('nike_test.jpg', 'rb') as image_file:\n",
    "        content = image_file.read()\n",
    "\n",
    "    image = vision.types.Image(content=content)\n",
    "\n",
    "    response = client.web_detection(image=image)\n",
    "    annotations = response.web_detection\n",
    "    return annotations"
   ]
  },
  {
   "cell_type": "code",
   "execution_count": 14,
   "metadata": {},
   "outputs": [],
   "source": [
    "# Converting web entities into dataframe\n",
    "def web_entities(annotations):\n",
    "    df2_entity_id = []\n",
    "    df2_score = []\n",
    "    df2_description = []\n",
    "    if annotations.web_entities:\n",
    "        for entity in annotations.web_entities:\n",
    "            df2_entity_id.append(entity.entity_id)\n",
    "            df2_score.append(entity.score)\n",
    "            df2_description.append(entity.description)\n",
    "    df_web_entities = pd.DataFrame(\n",
    "        {'entity_id': df2_entity_id,\n",
    "         'score': df2_score,\n",
    "         'description': df2_description\n",
    "        })\n",
    "    df_labels = df_web_entities.description[df_web_entities.score > 0.50]\n",
    "    df_labels = list(filter(None, df_labels)) \n",
    "    return df_labels "
   ]
  },
  {
   "cell_type": "code",
   "execution_count": 15,
   "metadata": {
    "scrolled": true
   },
   "outputs": [],
   "source": [
    "#Convert best guess into list\n",
    "def best_guess(annotations):\n",
    "    df_best_guess = []\n",
    "    if annotations.best_guess_labels:\n",
    "        for label in annotations.best_guess_labels:\n",
    "            df_best_guess.append(label.label)\n",
    "    return df_best_guess"
   ]
  },
  {
   "cell_type": "code",
   "execution_count": 16,
   "metadata": {
    "scrolled": true
   },
   "outputs": [],
   "source": [
    "#Convert urls into dataframe\n",
    "def urls(annotations):\n",
    "    url = []\n",
    "    if annotations.pages_with_matching_images:\n",
    "        for page in annotations.pages_with_matching_images:\n",
    "            url.append(page.url)\n",
    "    df_url = pd.DataFrame(\n",
    "        {'Weblinks':url})\n",
    "    return df_url"
   ]
  },
  {
   "cell_type": "code",
   "execution_count": 17,
   "metadata": {},
   "outputs": [
    {
     "name": "stdout",
     "output_type": "stream",
     "text": [
      "The keywords are: ['Backpack', 'Nike', 'Bag', 'Jumpman', 'Duffel Bags', 'Sport']\n",
      "The best guess is: ['nike girls school bags']\n",
      "Amazon links: Empty DataFrame\n",
      "Columns: [Weblinks]\n",
      "Index: []\n",
      "Ebay links: Empty DataFrame\n",
      "Columns: [Weblinks]\n",
      "Index: []\n",
      "Pinterest links:                                             Weblinks\n",
      "0  https://www.pinterest.com/veezpin/backpackduff...\n",
      "1     https://www.pinterest.com/a_reynard/nike-bags/\n",
      "2  https://www.pinterest.com.au/pin/5426838238265...\n"
     ]
    }
   ],
   "source": [
    "def main(debug = False):\n",
    "    #Process the image\n",
    "    annotations = detection(\"nike_test.jpg\")\n",
    "    #find the labels\n",
    "    df_labels = web_entities(annotations)\n",
    "    print(\"The keywords are:\", df_labels)\n",
    "    #find the best guess of the product\n",
    "    df_best_guess = best_guess(annotations)\n",
    "    print(\"The best guess is:\", df_best_guess)\n",
    "    #find weblinks if any\n",
    "    df_url = urls(annotations)\n",
    "    df_amazon = []\n",
    "    df_ebay = []\n",
    "    df_pinterest = []\n",
    "    df_amazon = df_url[df_url['Weblinks'].str.contains(\"amazon\")==True]\n",
    "    df_ebay = df_url[df_url['Weblinks'].str.contains(\"ebay\")==True]\n",
    "    df_pinterest = df_url[df_url['Weblinks'].str.contains(\"pinterest\")==True]\n",
    "    print(\"Amazon links:\", df_amazon)\n",
    "    print(\"Ebay links:\", df_ebay)\n",
    "    print(\"Pinterest links:\" , df_pinterest)\n",
    "    \n",
    "if __name__ == \"__main__\":\n",
    "    main()"
   ]
  }
 ],
 "metadata": {
  "kernelspec": {
   "display_name": "Python 3",
   "language": "python",
   "name": "python3"
  },
  "language_info": {
   "codemirror_mode": {
    "name": "ipython",
    "version": 3
   },
   "file_extension": ".py",
   "mimetype": "text/x-python",
   "name": "python",
   "nbconvert_exporter": "python",
   "pygments_lexer": "ipython3",
   "version": "3.6.1"
  }
 },
 "nbformat": 4,
 "nbformat_minor": 2
}
