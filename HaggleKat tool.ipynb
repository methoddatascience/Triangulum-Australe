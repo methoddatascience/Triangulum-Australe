{
 "cells": [
  {
   "cell_type": "markdown",
   "metadata": {},
   "source": [
    "### Initial Setup procedure\n",
    "\n",
    "* Log in to GCP\n",
    "* Start the free trial access\n",
    "* Setup a billing account\n",
    "* Create a Project\n",
    "* Enable Google Cloud vision API and generate API token\n",
    "https://cloud.google.com/vision/docs/before-you-begin\n",
    "* Download Google SDK\n",
    "* Run Google SDK -> Login -> Select Project\n",
    "* Create a service account -> assign role -> download credential JSON\n",
    "\n",
    "Codes - \n",
    "###### gcloud iam service-accounts create webdetection\n",
    "###### gcloud projects add-iam-policy-binding web-detection-208318 --member \"serviceAccount:webdetection@web-detection-208318.iam.gserviceaccount.com\" --role \"roles/owner\"\n",
    "###### gcloud iam service-accounts keys create webdetection_auth.json --iam-account webdetection@web-detection-208318.iam.gserviceaccount.com\n",
    "\n",
    "* Upload JSON to Jupyter environment"
   ]
  },
  {
   "cell_type": "code",
   "execution_count": 16,
   "metadata": {},
   "outputs": [],
   "source": [
    "import argparse\n",
    "import io\n",
    "import re\n",
    "\n",
    "from google.cloud import storage\n",
    "from google.cloud import vision\n",
    "from google.protobuf import json_format"
   ]
  },
  {
   "cell_type": "code",
   "execution_count": 17,
   "metadata": {},
   "outputs": [],
   "source": [
    "import os\n",
    "os.environ[\"GOOGLE_APPLICATION_CREDENTIALS\"]=\"webdetection_auth.json\""
   ]
  },
  {
   "cell_type": "code",
   "execution_count": 18,
   "metadata": {
    "collapsed": true
   },
   "outputs": [],
   "source": [
    "# [START def_detect_labels]\n",
    "def detect_labels(path):\n",
    "    \"\"\"Detects labels in the file.\"\"\"\n",
    "    client = vision.ImageAnnotatorClient()\n",
    "\n",
    "    # [START migration_label_detection]\n",
    "    with io.open(path, 'rb') as image_file:\n",
    "        content = image_file.read()\n",
    "\n",
    "    image = vision.types.Image(content=content)\n",
    "\n",
    "    response = client.label_detection(image=image)\n",
    "    labels = response.label_annotations\n",
    "    print('Labels:')\n",
    "\n",
    "    for label in labels:\n",
    "        print(label.description)\n",
    "    # [END migration_label_detection]\n",
    "# [END def_detect_labels]"
   ]
  },
  {
   "cell_type": "code",
   "execution_count": 24,
   "metadata": {},
   "outputs": [
    {
     "name": "stdout",
     "output_type": "stream",
     "text": [
      "Labels:\n",
      "clothing\n",
      "white\n",
      "t shirt\n",
      "active shirt\n",
      "sleeve\n",
      "product\n",
      "jersey\n",
      "sports fan jersey\n",
      "sportswear\n",
      "font\n"
     ]
    }
   ],
   "source": [
    "detect_labels(\"nike.jpg\")"
   ]
  },
  {
   "cell_type": "code",
   "execution_count": 19,
   "metadata": {
    "collapsed": true
   },
   "outputs": [],
   "source": [
    "# [START def_detect_logos]\n",
    "def detect_logos(path):\n",
    "    \"\"\"Detects logos in the file.\"\"\"\n",
    "    client = vision.ImageAnnotatorClient()\n",
    "\n",
    "    # [START migration_logo_detection]\n",
    "    with io.open(path, 'rb') as image_file:\n",
    "        content = image_file.read()\n",
    "\n",
    "    image = vision.types.Image(content=content)\n",
    "\n",
    "    response = client.logo_detection(image=image)\n",
    "    logos = response.logo_annotations\n",
    "    print('Logos:')\n",
    "\n",
    "    for logo in logos:\n",
    "        print(logo.description)\n",
    "    # [END migration_logo_detection]\n",
    "# [END def_detect_logos]"
   ]
  },
  {
   "cell_type": "code",
   "execution_count": 25,
   "metadata": {},
   "outputs": [
    {
     "name": "stdout",
     "output_type": "stream",
     "text": [
      "Logos:\n"
     ]
    }
   ],
   "source": [
    "detect_logos(\"nike.jpg\")"
   ]
  },
  {
   "cell_type": "code",
   "execution_count": 20,
   "metadata": {
    "collapsed": true
   },
   "outputs": [],
   "source": [
    "# [START def_detect_properties]\n",
    "def detect_properties(path):\n",
    "    \"\"\"Detects image properties in the file.\"\"\"\n",
    "    client = vision.ImageAnnotatorClient()\n",
    "\n",
    "    # [START migration_image_properties]\n",
    "    with io.open(path, 'rb') as image_file:\n",
    "        content = image_file.read()\n",
    "\n",
    "    image = vision.types.Image(content=content)\n",
    "\n",
    "    response = client.image_properties(image=image)\n",
    "    props = response.image_properties_annotation\n",
    "    print('Properties:')\n",
    "\n",
    "    for color in props.dominant_colors.colors:\n",
    "        print('fraction: {}'.format(color.pixel_fraction))\n",
    "        print('\\tr: {}'.format(color.color.red))\n",
    "        print('\\tg: {}'.format(color.color.green))\n",
    "        print('\\tb: {}'.format(color.color.blue))\n",
    "        print('\\ta: {}'.format(color.color.alpha))\n",
    "    # [END migration_image_properties]\n",
    "# [END def_detect_properties]"
   ]
  },
  {
   "cell_type": "code",
   "execution_count": 26,
   "metadata": {},
   "outputs": [
    {
     "name": "stdout",
     "output_type": "stream",
     "text": [
      "Properties:\n",
      "fraction: 0.7835683226585388\n",
      "\tr: 222.0\n",
      "\tg: 225.0\n",
      "\tb: 230.0\n",
      "\ta: \n",
      "fraction: 0.016125399619340897\n",
      "\tr: 41.0\n",
      "\tg: 47.0\n",
      "\tb: 54.0\n",
      "\ta: \n",
      "fraction: 0.14945273101329803\n",
      "\tr: 202.0\n",
      "\tg: 203.0\n",
      "\tb: 209.0\n",
      "\ta: \n",
      "fraction: 0.010044592432677746\n",
      "\tr: 22.0\n",
      "\tg: 28.0\n",
      "\tb: 35.0\n",
      "\ta: \n",
      "fraction: 0.01238682959228754\n",
      "\tr: 157.0\n",
      "\tg: 161.0\n",
      "\tb: 167.0\n",
      "\ta: \n",
      "fraction: 0.013783162459731102\n",
      "\tr: 80.0\n",
      "\tg: 84.0\n",
      "\tb: 91.0\n",
      "\ta: \n",
      "fraction: 0.009008603170514107\n",
      "\tr: 115.0\n",
      "\tg: 120.0\n",
      "\tb: 127.0\n",
      "\ta: \n",
      "fraction: 0.0010810323292389512\n",
      "\tr: 130.0\n",
      "\tg: 58.0\n",
      "\tb: 75.0\n",
      "\ta: \n",
      "fraction: 0.0013963334495201707\n",
      "\tr: 147.0\n",
      "\tg: 114.0\n",
      "\tb: 122.0\n",
      "\ta: \n",
      "fraction: 0.0008558172849006951\n",
      "\tr: 221.0\n",
      "\tg: 188.0\n",
      "\tb: 197.0\n",
      "\ta: \n"
     ]
    }
   ],
   "source": [
    "detect_properties(\"nike.jpg\")"
   ]
  },
  {
   "cell_type": "code",
   "execution_count": 21,
   "metadata": {
    "collapsed": true
   },
   "outputs": [],
   "source": [
    "# [START def_detect_web]\n",
    "def detect_web(path):\n",
    "    \"\"\"Detects web annotations given an image.\"\"\"\n",
    "    client = vision.ImageAnnotatorClient()\n",
    "\n",
    "    # [START migration_web_detection]\n",
    "    with io.open(path, 'rb') as image_file:\n",
    "        content = image_file.read()\n",
    "\n",
    "    image = vision.types.Image(content=content)\n",
    "\n",
    "    response = client.web_detection(image=image)\n",
    "    annotations = response.web_detection\n",
    "\n",
    "    if annotations.best_guess_labels:\n",
    "        for label in annotations.best_guess_labels:\n",
    "            print('\\nBest guess label: {}'.format(label.label))\n",
    "\n",
    "    if annotations.pages_with_matching_images:\n",
    "        print('\\n{} Pages with matching images found:'.format(\n",
    "            len(annotations.pages_with_matching_images)))\n",
    "\n",
    "        for page in annotations.pages_with_matching_images:\n",
    "            print('\\n\\tPage url   : {}'.format(page.url))\n",
    "\n",
    "            if page.full_matching_images:\n",
    "                print('\\t{} Full Matches found: '.format(\n",
    "                       len(page.full_matching_images)))\n",
    "\n",
    "                for image in page.full_matching_images:\n",
    "                    print('\\t\\tImage url  : {}'.format(image.url))\n",
    "\n",
    "            if page.partial_matching_images:\n",
    "                print('\\t{} Partial Matches found: '.format(\n",
    "                       len(page.partial_matching_images)))\n",
    "\n",
    "                for image in page.partial_matching_images:\n",
    "                    print('\\t\\tImage url  : {}'.format(image.url))\n",
    "\n",
    "    if annotations.web_entities:\n",
    "        print('\\n{} Web entities found: '.format(\n",
    "            len(annotations.web_entities)))\n",
    "\n",
    "        for entity in annotations.web_entities:\n",
    "            print('\\n\\tScore      : {}'.format(entity.score))\n",
    "            print(u'\\tDescription: {}'.format(entity.description))\n",
    "\n",
    "    if annotations.visually_similar_images:\n",
    "        print('\\n{} visually similar images found:\\n'.format(\n",
    "            len(annotations.visually_similar_images)))\n",
    "\n",
    "        for image in annotations.visually_similar_images:\n",
    "            print('\\tImage url    : {}'.format(image.url))\n",
    "    # [END migration_web_detection]\n",
    "# [END def_detect_web]"
   ]
  },
  {
   "cell_type": "code",
   "execution_count": 27,
   "metadata": {},
   "outputs": [
    {
     "name": "stdout",
     "output_type": "stream",
     "text": [
      "\n",
      "Best guess label: nike tshirt\n",
      "\n",
      "10 Pages with matching images found:\n",
      "\n",
      "\tPage url   : https://www.baseballmonkey.com/nike-tshirt-mens-mike-trout-boring.html\n",
      "\t3 Full Matches found: \n",
      "\t\tImage url  : https://baseballmonkey.nexcesscdn.net/media/catalog/product/cache/5/image/1000x/9df78eab33525d08d6e5fb8d27136e95/n/i/nike-tshirt-mens-mike-trout-boring.jpg\n",
      "\t\tImage url  : https://baseballmonkey.nexcesscdn.net/media/catalog/product/cache/5/image/265x/9df78eab33525d08d6e5fb8d27136e95/n/i/nike-tshirt-mens-mike-trout-boring.jpg\n",
      "\t\tImage url  : https://baseballmonkey.nexcesscdn.net/media/catalog/product/cache/5/thumbnail/600x/9df78eab33525d08d6e5fb8d27136e95/n/i/nike-tshirt-mens-mike-trout-boring.jpg\n",
      "\n",
      "\tPage url   : http://balkan-dhg.com/6jo.asp?p_id=white-nike-t-shirt-mens\n",
      "\t1 Partial Matches found: \n",
      "\t\tImage url  : https://baseballmonkey.nexcesscdn.net/media/catalog/product/cache/5/thumbnail/600x/9df78eab33525d08d6e5fb8d27136e95/n/i/nike-tshirt-mens-mike-trout-boring.jpg\n",
      "\n",
      "\tPage url   : https://www.baseballmonkey.com/catalog/category/view/id/808/?manufacturer=2258_19058\n",
      "\t1 Partial Matches found: \n",
      "\t\tImage url  : https://baseballmonkey.nexcesscdn.net/media/catalog/product/cache/5/small_image/600x/9df78eab33525d08d6e5fb8d27136e95/n/i/nike-tshirt-mens-mike-trout-boring.jpg\n",
      "\n",
      "\tPage url   : http://www.rpschoolmallabagh.com/news.asp?p_id=white-nike-t-shirt-mens\n",
      "\t1 Partial Matches found: \n",
      "\t\tImage url  : https://baseballmonkey.nexcesscdn.net/media/catalog/product/cache/5/thumbnail/600x/9df78eab33525d08d6e5fb8d27136e95/n/i/nike-tshirt-mens-mike-trout-boring.jpg\n",
      "\n",
      "\tPage url   : http://www.rpschoolmallabagh.com/news.asp?p_id=nike-retro-t-shirt\n",
      "\t1 Partial Matches found: \n",
      "\t\tImage url  : https://baseballmonkey.nexcesscdn.net/media/catalog/product/cache/5/thumbnail/600x/9df78eab33525d08d6e5fb8d27136e95/n/i/nike-tshirt-mens-mike-trout-boring.jpg\n",
      "\n",
      "\tPage url   : http://www.edwinngo.com/Thank.asp?p_id=nike-t-shirts-for-mens\n",
      "\t1 Full Matches found: \n",
      "\t\tImage url  : https://baseballmonkey.nexcesscdn.net/media/catalog/product/cache/5/image/1000x/9df78eab33525d08d6e5fb8d27136e95/n/i/nike-tshirt-mens-mike-trout-boring.jpg\n",
      "\n",
      "\tPage url   : http://trifuturein.com/ghj.asp?p_id=nike-tee-shirts-mens\n",
      "\t1 Partial Matches found: \n",
      "\t\tImage url  : https://baseballmonkey.nexcesscdn.net/media/catalog/product/cache/5/small_image/600x/9df78eab33525d08d6e5fb8d27136e95/n/i/nike-tshirt-mens-mike-trout-boring.jpg\n",
      "\n",
      "\tPage url   : http://webjusimg.pw/Nike-Runner39s-DriFit-SoftHand-Hoodie-Women39s-t.html\n",
      "\t1 Full Matches found: \n",
      "\t\tImage url  : https://baseballmonkey.nexcesscdn.net/media/catalog/product/cache/5/image/1000x/9df78eab33525d08d6e5fb8d27136e95/n/i/nike-tshirt-mens-mike-trout-boring.jpg\n",
      "\n",
      "\tPage url   : http://canacopegdl.com/keyword/nike-shirts.html\n",
      "\t1 Partial Matches found: \n",
      "\t\tImage url  : https://baseballmonkey.nexcesscdn.net/media/catalog/product/cache/5/thumbnail/600x/9df78eab33525d08d6e5fb8d27136e95/n/i/nike-tshirt-mens-mike-trout-boring.jpg\n",
      "\n",
      "\tPage url   : http://ansariflash.avocetdata.net/home.asp?p_id=nike-t-shirts-mens\n",
      "\t1 Full Matches found: \n",
      "\t\tImage url  : https://baseballmonkey.nexcesscdn.net/media/catalog/product/cache/5/image/1000x/9df78eab33525d08d6e5fb8d27136e95/n/i/nike-tshirt-mens-mike-trout-boring.jpg\n",
      "\n",
      "10 Web entities found: \n",
      "\n",
      "\tScore      : 1.069350004196167\n",
      "\tDescription: T-shirt\n",
      "\n",
      "\tScore      : 0.710099995136261\n",
      "\tDescription: Nike\n",
      "\n",
      "\tScore      : 0.710099995136261\n",
      "\tDescription: \n",
      "\n",
      "\tScore      : 0.703499972820282\n",
      "\tDescription: Shirt\n",
      "\n",
      "\tScore      : 0.636900007724762\n",
      "\tDescription: Polo shirt\n",
      "\n",
      "\tScore      : 0.6238999962806702\n",
      "\tDescription: Sleeve\n",
      "\n",
      "\tScore      : 0.5336889624595642\n",
      "\tDescription: Sports Fan Jersey\n",
      "\n",
      "\tScore      : 0.519599974155426\n",
      "\tDescription: Adidas\n",
      "\n",
      "\tScore      : 0.519599974155426\n",
      "\tDescription: \n",
      "\n",
      "\tScore      : 0.5045999884605408\n",
      "\tDescription: Fashion\n",
      "\n",
      "10 visually similar images found:\n",
      "\n",
      "\tImage url    : https://baseballmonkey.nexcesscdn.net/media/catalog/product/cache/5/image/1000x/9df78eab33525d08d6e5fb8d27136e95/n/i/nike-tshirt-mens-mike-trout-boring.jpg\n",
      "\tImage url    : http://www.maquyrep.com/image/cache/data/category_6/nike-tshirt-white-material-100-cotton-white-frkrbgr-1086-200x200_0.jpg\n",
      "\tImage url    : http://www.brandmemarketing.co.uk/images/brandmemarketing.co.uk/nike-tshirt-white-black-graphic-mens-clothing-68VR.jpg\n",
      "\tImage url    : http://www.waccountancy.co.uk/images/waccountancy.co.uksi/mens-nike-tshirt-kobe-ring-collector-white-98ZN.jpg\n",
      "\tImage url    : http://www.brandmemarketing.co.uk/images/brandmemarketing.co.uk/nike-tshirt-white-black-graphic-mens-clothing-51AT.jpg\n",
      "\tImage url    : http://www.insitealuminium.co.nz/images/insitealuminium.co.nz/mens-nike-tshirt-basketball-white-clothing-west-virginia-mountaineers-college-player-bench-11GO.jpg\n",
      "\tImage url    : http://www.brandmemarketing.co.uk/images/brandmemarketing.co.uk/nike-tshirt-white-black-white-air-82-mens-clothing-40AG.jpg\n",
      "\tImage url    : http://www.brandmemarketing.co.uk/images/brandmemarketing.co.uk/nike-tshirt-white-black-graphic-mens-clothing-92UH.jpg\n",
      "\tImage url    : http://www.eastdevonlabour.org.uk/images/JSIJVX/mens-nike-tshirt-white-purple-gold-graphic-75MD.jpg\n",
      "\tImage url    : http://www.atprocterelectrical.co.uk/images/JEpxSPuC/basketball-tshirt-nike-dove-grey-blue-white-lebron-floor-general-clothing-james-lebron-graphite-mens-44QF.jpg\n"
     ]
    }
   ],
   "source": [
    "detect_web(\"nike.jpg\")"
   ]
  },
  {
   "cell_type": "code",
   "execution_count": 22,
   "metadata": {
    "collapsed": true
   },
   "outputs": [],
   "source": [
    "# [START vision_web_entities_include_geo_results]\n",
    "def web_entities_include_geo_results(path):\n",
    "    \"\"\"Detects web annotations given an image, using the geotag metadata\n",
    "    in the iamge to detect web entities.\"\"\"\n",
    "    client = vision.ImageAnnotatorClient()\n",
    "\n",
    "    with io.open(path, 'rb') as image_file:\n",
    "        content = image_file.read()\n",
    "\n",
    "    image = vision.types.Image(content=content)\n",
    "\n",
    "    web_detection_params = vision.types.WebDetectionParams(\n",
    "        include_geo_results=True)\n",
    "    image_context = vision.types.ImageContext(\n",
    "        web_detection_params=web_detection_params)\n",
    "\n",
    "    response = client.web_detection(image=image, image_context=image_context)\n",
    "\n",
    "    for entity in response.web_detection.web_entities:\n",
    "        print('\\n\\tScore      : {}'.format(entity.score))\n",
    "        print(u'\\tDescription: {}'.format(entity.description))\n",
    "# [END vision_web_entities_include_geo_results]"
   ]
  },
  {
   "cell_type": "code",
   "execution_count": 28,
   "metadata": {},
   "outputs": [
    {
     "name": "stdout",
     "output_type": "stream",
     "text": [
      "\n",
      "\tScore      : 1.069350004196167\n",
      "\tDescription: T-shirt\n",
      "\n",
      "\tScore      : 0.710099995136261\n",
      "\tDescription: Nike\n",
      "\n",
      "\tScore      : 0.710099995136261\n",
      "\tDescription: \n",
      "\n",
      "\tScore      : 0.703499972820282\n",
      "\tDescription: Shirt\n",
      "\n",
      "\tScore      : 0.636900007724762\n",
      "\tDescription: Polo shirt\n",
      "\n",
      "\tScore      : 0.6238999962806702\n",
      "\tDescription: Sleeve\n",
      "\n",
      "\tScore      : 0.5336889624595642\n",
      "\tDescription: Sports Fan Jersey\n",
      "\n",
      "\tScore      : 0.519599974155426\n",
      "\tDescription: Adidas\n",
      "\n",
      "\tScore      : 0.519599974155426\n",
      "\tDescription: \n",
      "\n",
      "\tScore      : 0.5045999884605408\n",
      "\tDescription: Fashion\n"
     ]
    }
   ],
   "source": [
    "web_entities_include_geo_results(\"nike.jpg\")"
   ]
  }
 ],
 "metadata": {
  "kernelspec": {
   "display_name": "Python 3",
   "language": "python",
   "name": "python3"
  },
  "language_info": {
   "codemirror_mode": {
    "name": "ipython",
    "version": 3
   },
   "file_extension": ".py",
   "mimetype": "text/x-python",
   "name": "python",
   "nbconvert_exporter": "python",
   "pygments_lexer": "ipython3",
   "version": "3.6.1"
  }
 },
 "nbformat": 4,
 "nbformat_minor": 2
}
